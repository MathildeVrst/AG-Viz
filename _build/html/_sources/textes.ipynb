{
 "cells": [
  {
   "cell_type": "markdown",
   "metadata": {},
   "source": [
    "# L'*Anthologie* comme recueil de *textes* \n",
    "\n",
    "Avant toute chose, l'Anthologie est un recueil de textes. Commençons donc par nous intéresser à ceux-ci, et à comprendre comment ils se structurent. "
   ]
  },
  {
   "cell_type": "code",
   "execution_count": 3,
   "metadata": {},
   "outputs": [],
   "source": [
    "import json\n",
    "import requests\n",
    "import csv\n",
    "import pandas as pd\n",
    "import datetime\n",
    "import seaborn as sns\n",
    "import matplotlib.pyplot as plt\n"
   ]
  },
  {
   "cell_type": "code",
   "execution_count": 4,
   "metadata": {},
   "outputs": [],
   "source": [
    "with open('dump_api.json','r') as f:\n",
    "    data = json.loads(f.read()) "
   ]
  },
  {
   "cell_type": "markdown",
   "metadata": {},
   "source": [
    "Le dump de l'API est désormais contenu dans la variable ```data```. Ses données se structurent comme suit : "
   ]
  },
  {
   "cell_type": "code",
   "execution_count": 16,
   "metadata": {
    "scrolled": true
   },
   "outputs": [
    {
     "data": {
      "text/plain": [
       "{'id': 438,\n",
       " 'book': {'url': 'https://anthologiagraeca.org/api/books/9/', 'number': 1},\n",
       " 'fragment': 2,\n",
       " 'sub_fragment': '',\n",
       " 'url': 'https://anthologiagraeca.org/api/passages/urn:cts:greekLit:tlg7000.tlg001.ag:1.2/',\n",
       " 'manuscripts': ['http://digi.ub.uni-heidelberg.de/iiif/2/cpgraec23%3A049.jpg/pct:12.466722876141418,19.26407429979108,58.60226718012693,8.23287268450456/full/0/default.jpg'],\n",
       " 'texts': [{'url': 'https://anthologiagraeca.org/api/texts/1627/',\n",
       "   'language': 'grc',\n",
       "   'text': '\\n                      θεῖος Ἰουστῖνος, Σοφίης πόσις, ᾧ πόρε Χριστὸς\\n πάντα διορθοῦσθαι, καὶ κλέος ἐν πολέμοις,\\nμητρὸς ἀπειρογάμοιο δόμον σκάζοντα νοήσας,\\n σαθρὸν ἀποσκεδάσας τεῦξέ μιν ἀσφαλέως.\\n'},\n",
       "  {'url': 'https://anthologiagraeca.org/api/texts/1628/',\n",
       "   'language': 'eng',\n",
       "   'text': 'Inscribed on the Apse of Blachernae\\n\\nThe divine Justin, the husband of Sophia, to whom Christ granted the gift of restoring everything, and glory in war, finding that the temple of the Virgin Mother was tottering, took the decayed part to pieces and built it up again securely. '},\n",
       "  {'url': 'https://anthologiagraeca.org/api/texts/1629/',\n",
       "   'language': 'fra',\n",
       "   'text': \"Gravé sur les absides des Blachernes. \\n\\nLe divin Justin, l'époux de Sophie, à qui le Christ a accordé le rétablissement universel de l'ordre et la gloire dans les combats, voyant chanceler la demeure de la Mère immaculée, en a fait abattre les bâtiments qui tombaient en ruines et les a fait reconstruire solidement. \"},\n",
       "  {'url': 'https://anthologiagraeca.org/api/texts/1630/',\n",
       "   'language': 'por',\n",
       "   'text': 'Na abóboda de Blaquerna\\n\\nO divino Justino, esposo de Sofia, a quem Cristo concedeu o dom de tudo restaurar e a glória em combates, percebendo estar combalida a casa da Mãe Imaculada, demoliu o danificado e reconstruiu solidamente. '}],\n",
       " 'authors': [{'url': 'https://anthologiagraeca.org/api/authors/6/',\n",
       "   'tlg_id': '',\n",
       "   'names': [{'name': 'anónimo', 'language': 'spa'},\n",
       "    {'name': 'anonimo', 'language': 'ita'},\n",
       "    {'name': 'anonyme', 'language': 'fra'},\n",
       "    {'name': 'anónimo', 'language': 'por'},\n",
       "    {'name': 'anonymus', 'language': 'lat'},\n",
       "    {'name': 'anonymous', 'language': 'eng'}]}],\n",
       " 'cities': [],\n",
       " 'keywords': ['https://anthologiagraeca.org/api/keywords/116/',\n",
       "  'https://anthologiagraeca.org/api/keywords/200/'],\n",
       " 'scholia': [{'book': 1,\n",
       "   'fragment': 2,\n",
       "   'sub_fragment': '',\n",
       "   'number': 1,\n",
       "   'url': 'https://anthologiagraeca.org/api/scholia/urn:cts:greekLit:tlg5011.tlg001.sag:1.2.1/'},\n",
       "  {'book': 1,\n",
       "   'fragment': 2,\n",
       "   'sub_fragment': '',\n",
       "   'number': 2,\n",
       "   'url': 'https://anthologiagraeca.org/api/scholia/urn:cts:greekLit:tlg5011.tlg001.sag:1.2.2/'}],\n",
       " 'comments': [],\n",
       " 'external_references': [{'title': 'Église Sainte-Marie des Blachernes',\n",
       "   'url': 'https://fr.wikipedia.org/wiki/%C3%89glise_Sainte-Marie-des-Blachernes'}],\n",
       " 'internal_references': [],\n",
       " 'media': []}"
      ]
     },
     "execution_count": 16,
     "metadata": {},
     "output_type": "execute_result"
    }
   ],
   "source": [
    "data[1]"
   ]
  },
  {
   "cell_type": "markdown",
   "metadata": {},
   "source": [
    "Nous pouvons facilement vérifier cela en vérifiant la longueur de la liste : nous devrions obtenir 4134 résultats : le nombre d'épigrammes sur la plateforme. "
   ]
  },
  {
   "cell_type": "code",
   "execution_count": 11,
   "metadata": {},
   "outputs": [
    {
     "name": "stdout",
     "output_type": "stream",
     "text": [
      "La liste data contient 4134 entrées.\n"
     ]
    }
   ],
   "source": [
    "print(\"La liste data contient\",len(data), \"entrées.\")"
   ]
  },
  {
   "cell_type": "markdown",
   "metadata": {},
   "source": [
    "Commençons par nous créer un dataframe ```Pandas``` contenant les valeurs suivantes : \n",
    "\n",
    "- id de l'épigramme \n",
    "- url de l'épigramme \n",
    "- url du texte \n",
    "- langue du texte \n",
    "- texte "
   ]
  },
  {
   "cell_type": "code",
   "execution_count": 69,
   "metadata": {},
   "outputs": [],
   "source": [
    "df = pd.DataFrame(columns=['epi_id', 'epi_url', 'text_url', 'text_lang', 'text'])"
   ]
  },
  {
   "cell_type": "code",
   "execution_count": 70,
   "metadata": {},
   "outputs": [],
   "source": [
    "for item in data:\n",
    "    texts = item['texts']\n",
    "    for text in texts:\n",
    "        df = pd.concat([df, pd.DataFrame({\n",
    "            'epi_id': [item['id']],\n",
    "            'epi_url': [item['url']],\n",
    "            'text_url': [text['url']],\n",
    "            'text_lang': [text['language']],\n",
    "            'text': [text['text']]\n",
    "        })], ignore_index=True)\n",
    "\n",
    "pd.set_option('display.max_colwidth', None)"
   ]
  },
  {
   "cell_type": "code",
   "execution_count": 71,
   "metadata": {},
   "outputs": [
    {
     "data": {
      "text/html": [
       "<div>\n",
       "<style scoped>\n",
       "    .dataframe tbody tr th:only-of-type {\n",
       "        vertical-align: middle;\n",
       "    }\n",
       "\n",
       "    .dataframe tbody tr th {\n",
       "        vertical-align: top;\n",
       "    }\n",
       "\n",
       "    .dataframe thead th {\n",
       "        text-align: right;\n",
       "    }\n",
       "</style>\n",
       "<table border=\"1\" class=\"dataframe\">\n",
       "  <thead>\n",
       "    <tr style=\"text-align: right;\">\n",
       "      <th></th>\n",
       "      <th>epi_id</th>\n",
       "      <th>epi_url</th>\n",
       "      <th>text_url</th>\n",
       "      <th>text_lang</th>\n",
       "      <th>text</th>\n",
       "    </tr>\n",
       "  </thead>\n",
       "  <tbody>\n",
       "    <tr>\n",
       "      <th>0</th>\n",
       "      <td>424</td>\n",
       "      <td>https://anthologiagraeca.org/api/passages/urn:cts:greekLit:tlg7000.tlg001.ag:1.1/</td>\n",
       "      <td>https://anthologiagraeca.org/api/texts/1581/</td>\n",
       "      <td>grc</td>\n",
       "      <td>\\n                      ἃς οἱ πλάνοι καθεῖλον ἐνθάδ᾽ εἰκόνας\\n ἄνακτες ἐστήλωσαν εὐσεβεῖς πάλιν.\\n</td>\n",
       "    </tr>\n",
       "    <tr>\n",
       "      <th>1</th>\n",
       "      <td>424</td>\n",
       "      <td>https://anthologiagraeca.org/api/passages/urn:cts:greekLit:tlg7000.tlg001.ag:1.1/</td>\n",
       "      <td>https://anthologiagraeca.org/api/texts/1582/</td>\n",
       "      <td>eng</td>\n",
       "      <td>Inscribed on the Tabernacle of Saint Sophia\\n\\nThe images that the hereties took down here our pious sovereigns replaced.</td>\n",
       "    </tr>\n",
       "    <tr>\n",
       "      <th>2</th>\n",
       "      <td>424</td>\n",
       "      <td>https://anthologiagraeca.org/api/passages/urn:cts:greekLit:tlg7000.tlg001.ag:1.1/</td>\n",
       "      <td>https://anthologiagraeca.org/api/texts/1583/</td>\n",
       "      <td>fra</td>\n",
       "      <td>Sur le dais de l'autel de Sainte-Sophie \\n\\nLes images que des égarés avaient renversées ici, de pieux souverains les ont relevées.</td>\n",
       "    </tr>\n",
       "    <tr>\n",
       "      <th>3</th>\n",
       "      <td>424</td>\n",
       "      <td>https://anthologiagraeca.org/api/passages/urn:cts:greekLit:tlg7000.tlg001.ag:1.1/</td>\n",
       "      <td>https://anthologiagraeca.org/api/texts/1584/</td>\n",
       "      <td>por</td>\n",
       "      <td>Inscrito no altar de Santa Sofia\\n \\nDaqui os andarilhos derrubaram as imagens,\\nEntão os pios senhores as ergueram novamente.</td>\n",
       "    </tr>\n",
       "    <tr>\n",
       "      <th>4</th>\n",
       "      <td>438</td>\n",
       "      <td>https://anthologiagraeca.org/api/passages/urn:cts:greekLit:tlg7000.tlg001.ag:1.2/</td>\n",
       "      <td>https://anthologiagraeca.org/api/texts/1627/</td>\n",
       "      <td>grc</td>\n",
       "      <td>\\n                      θεῖος Ἰουστῖνος, Σοφίης πόσις, ᾧ πόρε Χριστὸς\\n πάντα διορθοῦσθαι, καὶ κλέος ἐν πολέμοις,\\nμητρὸς ἀπειρογάμοιο δόμον σκάζοντα νοήσας,\\n σαθρὸν ἀποσκεδάσας τεῦξέ μιν ἀσφαλέως.\\n</td>\n",
       "    </tr>\n",
       "  </tbody>\n",
       "</table>\n",
       "</div>"
      ],
      "text/plain": [
       "  epi_id  \\\n",
       "0    424   \n",
       "1    424   \n",
       "2    424   \n",
       "3    424   \n",
       "4    438   \n",
       "\n",
       "                                                                             epi_url  \\\n",
       "0  https://anthologiagraeca.org/api/passages/urn:cts:greekLit:tlg7000.tlg001.ag:1.1/   \n",
       "1  https://anthologiagraeca.org/api/passages/urn:cts:greekLit:tlg7000.tlg001.ag:1.1/   \n",
       "2  https://anthologiagraeca.org/api/passages/urn:cts:greekLit:tlg7000.tlg001.ag:1.1/   \n",
       "3  https://anthologiagraeca.org/api/passages/urn:cts:greekLit:tlg7000.tlg001.ag:1.1/   \n",
       "4  https://anthologiagraeca.org/api/passages/urn:cts:greekLit:tlg7000.tlg001.ag:1.2/   \n",
       "\n",
       "                                       text_url text_lang  \\\n",
       "0  https://anthologiagraeca.org/api/texts/1581/       grc   \n",
       "1  https://anthologiagraeca.org/api/texts/1582/       eng   \n",
       "2  https://anthologiagraeca.org/api/texts/1583/       fra   \n",
       "3  https://anthologiagraeca.org/api/texts/1584/       por   \n",
       "4  https://anthologiagraeca.org/api/texts/1627/       grc   \n",
       "\n",
       "                                                                                                                                                                                                       text  \n",
       "0                                                                                                        \\n                      ἃς οἱ πλάνοι καθεῖλον ἐνθάδ᾽ εἰκόνας\\n ἄνακτες ἐστήλωσαν εὐσεβεῖς πάλιν.\\n  \n",
       "1                                                                                Inscribed on the Tabernacle of Saint Sophia\\n\\nThe images that the hereties took down here our pious sovereigns replaced.   \n",
       "2                                                                      Sur le dais de l'autel de Sainte-Sophie \\n\\nLes images que des égarés avaient renversées ici, de pieux souverains les ont relevées.   \n",
       "3                                                                            Inscrito no altar de Santa Sofia\\n \\nDaqui os andarilhos derrubaram as imagens,\\nEntão os pios senhores as ergueram novamente.  \n",
       "4  \\n                      θεῖος Ἰουστῖνος, Σοφίης πόσις, ᾧ πόρε Χριστὸς\\n πάντα διορθοῦσθαι, καὶ κλέος ἐν πολέμοις,\\nμητρὸς ἀπειρογάμοιο δόμον σκάζοντα νοήσας,\\n σαθρὸν ἀποσκεδάσας τεῦξέ μιν ἀσφαλέως.\\n  "
      ]
     },
     "execution_count": 71,
     "metadata": {},
     "output_type": "execute_result"
    }
   ],
   "source": [
    "df.head()"
   ]
  },
  {
   "cell_type": "markdown",
   "metadata": {},
   "source": [
    "Nous pouvons normaliser quelque peu les textes avant de nous plonger dans une analyse de ceux-ci. Commençons par enlever les sauts de ligne et la ponctuation. La ponctuation pourrait être intéressante pour certaines analyses mais je ne m'y attarderai pas ici. "
   ]
  },
  {
   "cell_type": "code",
   "execution_count": 72,
   "metadata": {},
   "outputs": [],
   "source": [
    "liste_ponctuation = [',', ';', ':', '.', '·', '!','?', '(', ')', '[', ']', '–', '«', '»']\n",
    "liste_sauts = ['\\n', '\\r', '-', '\\’', '\\'']\n",
    "\n",
    "def normalized(texte): \n",
    "    for caractere in liste_ponctuation:\n",
    "        texte = texte.replace(caractere, '')\n",
    "    for saut in liste_sauts:\n",
    "        texte = texte.replace(saut, ' ')\n",
    "    return texte"
   ]
  },
  {
   "cell_type": "code",
   "execution_count": 73,
   "metadata": {},
   "outputs": [
    {
     "data": {
      "text/html": [
       "<div>\n",
       "<style scoped>\n",
       "    .dataframe tbody tr th:only-of-type {\n",
       "        vertical-align: middle;\n",
       "    }\n",
       "\n",
       "    .dataframe tbody tr th {\n",
       "        vertical-align: top;\n",
       "    }\n",
       "\n",
       "    .dataframe thead th {\n",
       "        text-align: right;\n",
       "    }\n",
       "</style>\n",
       "<table border=\"1\" class=\"dataframe\">\n",
       "  <thead>\n",
       "    <tr style=\"text-align: right;\">\n",
       "      <th></th>\n",
       "      <th>epi_id</th>\n",
       "      <th>epi_url</th>\n",
       "      <th>text_url</th>\n",
       "      <th>text_lang</th>\n",
       "      <th>text</th>\n",
       "    </tr>\n",
       "  </thead>\n",
       "  <tbody>\n",
       "    <tr>\n",
       "      <th>0</th>\n",
       "      <td>424</td>\n",
       "      <td>https://anthologiagraeca.org/api/passages/urn:cts:greekLit:tlg7000.tlg001.ag:1.1/</td>\n",
       "      <td>https://anthologiagraeca.org/api/texts/1581/</td>\n",
       "      <td>grc</td>\n",
       "      <td>ἃς οἱ πλάνοι καθεῖλον ἐνθάδ᾽ εἰκόνας  ἄνακτες ἐστήλωσαν εὐσεβεῖς πάλιν</td>\n",
       "    </tr>\n",
       "    <tr>\n",
       "      <th>1</th>\n",
       "      <td>424</td>\n",
       "      <td>https://anthologiagraeca.org/api/passages/urn:cts:greekLit:tlg7000.tlg001.ag:1.1/</td>\n",
       "      <td>https://anthologiagraeca.org/api/texts/1582/</td>\n",
       "      <td>eng</td>\n",
       "      <td>inscribed on the tabernacle of saint sophia  the images that the hereties took down here our pious sovereigns replaced</td>\n",
       "    </tr>\n",
       "    <tr>\n",
       "      <th>2</th>\n",
       "      <td>424</td>\n",
       "      <td>https://anthologiagraeca.org/api/passages/urn:cts:greekLit:tlg7000.tlg001.ag:1.1/</td>\n",
       "      <td>https://anthologiagraeca.org/api/texts/1583/</td>\n",
       "      <td>fra</td>\n",
       "      <td>sur le dais de l autel de sainte sophie   les images que des égarés avaient renversées ici de pieux souverains les ont relevées</td>\n",
       "    </tr>\n",
       "    <tr>\n",
       "      <th>3</th>\n",
       "      <td>424</td>\n",
       "      <td>https://anthologiagraeca.org/api/passages/urn:cts:greekLit:tlg7000.tlg001.ag:1.1/</td>\n",
       "      <td>https://anthologiagraeca.org/api/texts/1584/</td>\n",
       "      <td>por</td>\n",
       "      <td>inscrito no altar de santa sofia   daqui os andarilhos derrubaram as imagens então os pios senhores as ergueram novamente</td>\n",
       "    </tr>\n",
       "    <tr>\n",
       "      <th>4</th>\n",
       "      <td>438</td>\n",
       "      <td>https://anthologiagraeca.org/api/passages/urn:cts:greekLit:tlg7000.tlg001.ag:1.2/</td>\n",
       "      <td>https://anthologiagraeca.org/api/texts/1627/</td>\n",
       "      <td>grc</td>\n",
       "      <td>θεῖος ἰουστῖνος σοφίης πόσις ᾧ πόρε χριστὸς  πάντα διορθοῦσθαι καὶ κλέος ἐν πολέμοις μητρὸς ἀπειρογάμοιο δόμον σκάζοντα νοήσας  σαθρὸν ἀποσκεδάσας τεῦξέ μιν ἀσφαλέως</td>\n",
       "    </tr>\n",
       "    <tr>\n",
       "      <th>...</th>\n",
       "      <td>...</td>\n",
       "      <td>...</td>\n",
       "      <td>...</td>\n",
       "      <td>...</td>\n",
       "      <td>...</td>\n",
       "    </tr>\n",
       "    <tr>\n",
       "      <th>11554</th>\n",
       "      <td>4125</td>\n",
       "      <td>https://anthologiagraeca.org/api/passages/urn:cts:greekLit:tlg7000.tlg001.ag:16.386/</td>\n",
       "      <td>https://anthologiagraeca.org/api/texts/14199/</td>\n",
       "      <td>ita</td>\n",
       "      <td>l artista a morti da gran tempo vita dà   giuliano tira e molla le sue redini  sul carro rosso con vigore come un dì  si leva col suo carro nell immagine  la mano è là che attende il cenno pista via</td>\n",
       "    </tr>\n",
       "    <tr>\n",
       "      <th>11555</th>\n",
       "      <td>3523</td>\n",
       "      <td>https://anthologiagraeca.org/api/passages/urn:cts:greekLit:tlg7000.tlg001.ag:16.387/</td>\n",
       "      <td>https://anthologiagraeca.org/api/texts/6652/</td>\n",
       "      <td>grc</td>\n",
       "      <td>ἰουλιανὸς οὗτος ἅρμα ῥουσίου  ἔχων ἐνίκα τοὺς ἐναντίους δρόμῳ  ἀλλ᾽ εἰ γραφεὺς παρεῖχε καὶ πνοῆς χάριν ἕτοιμός ἐστι καὶ πάλιν διφρηλάτης                     καὶ πρόσθεν ἐλθεῖν καὶ λαβεῖν καὶ τὸ στέφος</td>\n",
       "    </tr>\n",
       "    <tr>\n",
       "      <th>11556</th>\n",
       "      <td>3523</td>\n",
       "      <td>https://anthologiagraeca.org/api/passages/urn:cts:greekLit:tlg7000.tlg001.ag:16.387/</td>\n",
       "      <td>https://anthologiagraeca.org/api/texts/14200/</td>\n",
       "      <td>ita</td>\n",
       "      <td>giuliano è questo per i rossi vincere  poté i rivali tutti nell ippodromo  e se il pittore gl infondeva l alito  sarebbe pronto nuovamente a correre  a dominare la corona a cingere</td>\n",
       "    </tr>\n",
       "    <tr>\n",
       "      <th>11557</th>\n",
       "      <td>3946</td>\n",
       "      <td>https://anthologiagraeca.org/api/passages/urn:cts:greekLit:tlg7000.tlg001.ag:16.388/</td>\n",
       "      <td>https://anthologiagraeca.org/api/texts/7076/</td>\n",
       "      <td>grc</td>\n",
       "      <td>στέφος πλέκων ποθ᾽ εὗρον ἐν τοῖς ῥόδοις ἔρωτα  καὶ τῶν πτερῶν κατασχὼν  ἐβάπτις1᾽ εἰς τὸν οἶνον                     λαβὼν δ᾽ ἔπιον αὐτόν  καὶ νῦν ἔσω μελῶν μου πτεροῖσι γαργαλίζει</td>\n",
       "    </tr>\n",
       "    <tr>\n",
       "      <th>11558</th>\n",
       "      <td>3946</td>\n",
       "      <td>https://anthologiagraeca.org/api/passages/urn:cts:greekLit:tlg7000.tlg001.ag:16.388/</td>\n",
       "      <td>https://anthologiagraeca.org/api/texts/14201/</td>\n",
       "      <td>ita</td>\n",
       "      <td>tessevo un serto vidi  di tra le rose amore  lo presi per le ali  lo battezzai nel vino  lo tracannai d un sorso  mi fa con l ali adesso   solletico nel corpo</td>\n",
       "    </tr>\n",
       "  </tbody>\n",
       "</table>\n",
       "<p>11559 rows × 5 columns</p>\n",
       "</div>"
      ],
      "text/plain": [
       "      epi_id  \\\n",
       "0        424   \n",
       "1        424   \n",
       "2        424   \n",
       "3        424   \n",
       "4        438   \n",
       "...      ...   \n",
       "11554   4125   \n",
       "11555   3523   \n",
       "11556   3523   \n",
       "11557   3946   \n",
       "11558   3946   \n",
       "\n",
       "                                                                                    epi_url  \\\n",
       "0         https://anthologiagraeca.org/api/passages/urn:cts:greekLit:tlg7000.tlg001.ag:1.1/   \n",
       "1         https://anthologiagraeca.org/api/passages/urn:cts:greekLit:tlg7000.tlg001.ag:1.1/   \n",
       "2         https://anthologiagraeca.org/api/passages/urn:cts:greekLit:tlg7000.tlg001.ag:1.1/   \n",
       "3         https://anthologiagraeca.org/api/passages/urn:cts:greekLit:tlg7000.tlg001.ag:1.1/   \n",
       "4         https://anthologiagraeca.org/api/passages/urn:cts:greekLit:tlg7000.tlg001.ag:1.2/   \n",
       "...                                                                                     ...   \n",
       "11554  https://anthologiagraeca.org/api/passages/urn:cts:greekLit:tlg7000.tlg001.ag:16.386/   \n",
       "11555  https://anthologiagraeca.org/api/passages/urn:cts:greekLit:tlg7000.tlg001.ag:16.387/   \n",
       "11556  https://anthologiagraeca.org/api/passages/urn:cts:greekLit:tlg7000.tlg001.ag:16.387/   \n",
       "11557  https://anthologiagraeca.org/api/passages/urn:cts:greekLit:tlg7000.tlg001.ag:16.388/   \n",
       "11558  https://anthologiagraeca.org/api/passages/urn:cts:greekLit:tlg7000.tlg001.ag:16.388/   \n",
       "\n",
       "                                            text_url text_lang  \\\n",
       "0       https://anthologiagraeca.org/api/texts/1581/       grc   \n",
       "1       https://anthologiagraeca.org/api/texts/1582/       eng   \n",
       "2       https://anthologiagraeca.org/api/texts/1583/       fra   \n",
       "3       https://anthologiagraeca.org/api/texts/1584/       por   \n",
       "4       https://anthologiagraeca.org/api/texts/1627/       grc   \n",
       "...                                              ...       ...   \n",
       "11554  https://anthologiagraeca.org/api/texts/14199/       ita   \n",
       "11555   https://anthologiagraeca.org/api/texts/6652/       grc   \n",
       "11556  https://anthologiagraeca.org/api/texts/14200/       ita   \n",
       "11557   https://anthologiagraeca.org/api/texts/7076/       grc   \n",
       "11558  https://anthologiagraeca.org/api/texts/14201/       ita   \n",
       "\n",
       "                                                                                                                                                                                                           text  \n",
       "0                                                                                                                                       ἃς οἱ πλάνοι καθεῖλον ἐνθάδ᾽ εἰκόνας  ἄνακτες ἐστήλωσαν εὐσεβεῖς πάλιν   \n",
       "1                                                                                       inscribed on the tabernacle of saint sophia  the images that the hereties took down here our pious sovereigns replaced   \n",
       "2                                                                              sur le dais de l autel de sainte sophie   les images que des égarés avaient renversées ici de pieux souverains les ont relevées   \n",
       "3                                                                                     inscrito no altar de santa sofia   daqui os andarilhos derrubaram as imagens então os pios senhores as ergueram novamente  \n",
       "4                                        θεῖος ἰουστῖνος σοφίης πόσις ᾧ πόρε χριστὸς  πάντα διορθοῦσθαι καὶ κλέος ἐν πολέμοις μητρὸς ἀπειρογάμοιο δόμον σκάζοντα νοήσας  σαθρὸν ἀποσκεδάσας τεῦξέ μιν ἀσφαλέως   \n",
       "...                                                                                                                                                                                                         ...  \n",
       "11554    l artista a morti da gran tempo vita dà   giuliano tira e molla le sue redini  sul carro rosso con vigore come un dì  si leva col suo carro nell immagine  la mano è là che attende il cenno pista via  \n",
       "11555  ἰουλιανὸς οὗτος ἅρμα ῥουσίου  ἔχων ἐνίκα τοὺς ἐναντίους δρόμῳ  ἀλλ᾽ εἰ γραφεὺς παρεῖχε καὶ πνοῆς χάριν ἕτοιμός ἐστι καὶ πάλιν διφρηλάτης                     καὶ πρόσθεν ἐλθεῖν καὶ λαβεῖν καὶ τὸ στέφος  \n",
       "11556                      giuliano è questo per i rossi vincere  poté i rivali tutti nell ippodromo  e se il pittore gl infondeva l alito  sarebbe pronto nuovamente a correre  a dominare la corona a cingere  \n",
       "11557                       στέφος πλέκων ποθ᾽ εὗρον ἐν τοῖς ῥόδοις ἔρωτα  καὶ τῶν πτερῶν κατασχὼν  ἐβάπτις1᾽ εἰς τὸν οἶνον                     λαβὼν δ᾽ ἔπιον αὐτόν  καὶ νῦν ἔσω μελῶν μου πτεροῖσι γαργαλίζει  \n",
       "11558                                            tessevo un serto vidi  di tra le rose amore  lo presi per le ali  lo battezzai nel vino  lo tracannai d un sorso  mi fa con l ali adesso   solletico nel corpo  \n",
       "\n",
       "[11559 rows x 5 columns]"
      ]
     },
     "execution_count": 73,
     "metadata": {},
     "output_type": "execute_result"
    }
   ],
   "source": [
    "df['text'] = df['text'].apply(normalized).str.lower()\n",
    "df"
   ]
  },
  {
   "cell_type": "markdown",
   "metadata": {},
   "source": [
    "De là, nous pouvons facilement compter le nombre de textes en grec, en anglais, italien, etc. "
   ]
  },
  {
   "cell_type": "code",
   "execution_count": 74,
   "metadata": {},
   "outputs": [
    {
     "data": {
      "text/plain": [
       "grc    4224\n",
       "eng    3166\n",
       "fra    2886\n",
       "ita     944\n",
       "por     187\n",
       "cmn     110\n",
       "lat      39\n",
       "deu       2\n",
       "spa       1\n",
       "Name: text_lang, dtype: int64"
      ]
     },
     "execution_count": 74,
     "metadata": {},
     "output_type": "execute_result"
    }
   ],
   "source": [
    "df['text_lang'].value_counts()"
   ]
  },
  {
   "cell_type": "markdown",
   "metadata": {},
   "source": [
    "Ces données nous permettent de faire notre première visualisation ! Voyons, sous forme de tarte, la répartition des différentes langues au sein des textes de l'AG : "
   ]
  },
  {
   "cell_type": "code",
   "execution_count": 90,
   "metadata": {},
   "outputs": [
    {
     "data": {
      "text/plain": [
       "Text(0.5, 1.0, \"Distribution des langues des textes de l'AGr\")"
      ]
     },
     "execution_count": 90,
     "metadata": {},
     "output_type": "execute_result"
    },
    {
     "data": {
      "image/png": "[encoded data removed]",
      "text/plain": [
       "<Figure size 432x288 with 1 Axes>"
      ]
     },
     "metadata": {},
     "output_type": "display_data"
    }
   ],
   "source": [
    "ax = df['text_lang'].value_counts().plot(kind='pie')\n",
    "ax.set_title(\"Distribution des langues des textes de l'AGr\")"
   ]
  },
  {
   "cell_type": "markdown",
   "metadata": {},
   "source": [
    "Nous pouvons également compter le nombre de caractères et le nombre de mots dans chacun des textes : "
   ]
  },
  {
   "cell_type": "code",
   "execution_count": 91,
   "metadata": {},
   "outputs": [],
   "source": [
    "df['len'] = df['text'].str.len()\n",
    "df['words'] = df['text'].str.split().str.len()"
   ]
  },
  {
   "cell_type": "code",
   "execution_count": 92,
   "metadata": {},
   "outputs": [
    {
     "data": {
      "text/html": [
       "<div>\n",
       "<style scoped>\n",
       "    .dataframe tbody tr th:only-of-type {\n",
       "        vertical-align: middle;\n",
       "    }\n",
       "\n",
       "    .dataframe tbody tr th {\n",
       "        vertical-align: top;\n",
       "    }\n",
       "\n",
       "    .dataframe thead th {\n",
       "        text-align: right;\n",
       "    }\n",
       "</style>\n",
       "<table border=\"1\" class=\"dataframe\">\n",
       "  <thead>\n",
       "    <tr style=\"text-align: right;\">\n",
       "      <th></th>\n",
       "      <th>epi_id</th>\n",
       "      <th>epi_url</th>\n",
       "      <th>text_url</th>\n",
       "      <th>text_lang</th>\n",
       "      <th>text</th>\n",
       "      <th>len</th>\n",
       "      <th>words</th>\n",
       "    </tr>\n",
       "  </thead>\n",
       "  <tbody>\n",
       "    <tr>\n",
       "      <th>0</th>\n",
       "      <td>424</td>\n",
       "      <td>https://anthologiagraeca.org/api/passages/urn:cts:greekLit:tlg7000.tlg001.ag:1.1/</td>\n",
       "      <td>https://anthologiagraeca.org/api/texts/1581/</td>\n",
       "      <td>grc</td>\n",
       "      <td>ἃς οἱ πλάνοι καθεῖλον ἐνθάδ᾽ εἰκόνας  ἄνακτες ἐστήλωσαν εὐσεβεῖς πάλιν</td>\n",
       "      <td>94</td>\n",
       "      <td>10</td>\n",
       "    </tr>\n",
       "    <tr>\n",
       "      <th>1</th>\n",
       "      <td>424</td>\n",
       "      <td>https://anthologiagraeca.org/api/passages/urn:cts:greekLit:tlg7000.tlg001.ag:1.1/</td>\n",
       "      <td>https://anthologiagraeca.org/api/texts/1582/</td>\n",
       "      <td>eng</td>\n",
       "      <td>inscribed on the tabernacle of saint sophia  the images that the hereties took down here our pious sovereigns replaced</td>\n",
       "      <td>119</td>\n",
       "      <td>19</td>\n",
       "    </tr>\n",
       "    <tr>\n",
       "      <th>2</th>\n",
       "      <td>424</td>\n",
       "      <td>https://anthologiagraeca.org/api/passages/urn:cts:greekLit:tlg7000.tlg001.ag:1.1/</td>\n",
       "      <td>https://anthologiagraeca.org/api/texts/1583/</td>\n",
       "      <td>fra</td>\n",
       "      <td>sur le dais de l autel de sainte sophie   les images que des égarés avaient renversées ici de pieux souverains les ont relevées</td>\n",
       "      <td>128</td>\n",
       "      <td>23</td>\n",
       "    </tr>\n",
       "    <tr>\n",
       "      <th>3</th>\n",
       "      <td>424</td>\n",
       "      <td>https://anthologiagraeca.org/api/passages/urn:cts:greekLit:tlg7000.tlg001.ag:1.1/</td>\n",
       "      <td>https://anthologiagraeca.org/api/texts/1584/</td>\n",
       "      <td>por</td>\n",
       "      <td>inscrito no altar de santa sofia   daqui os andarilhos derrubaram as imagens então os pios senhores as ergueram novamente</td>\n",
       "      <td>121</td>\n",
       "      <td>19</td>\n",
       "    </tr>\n",
       "    <tr>\n",
       "      <th>4</th>\n",
       "      <td>438</td>\n",
       "      <td>https://anthologiagraeca.org/api/passages/urn:cts:greekLit:tlg7000.tlg001.ag:1.2/</td>\n",
       "      <td>https://anthologiagraeca.org/api/texts/1627/</td>\n",
       "      <td>grc</td>\n",
       "      <td>θεῖος ἰουστῖνος σοφίης πόσις ᾧ πόρε χριστὸς  πάντα διορθοῦσθαι καὶ κλέος ἐν πολέμοις μητρὸς ἀπειρογάμοιο δόμον σκάζοντα νοήσας  σαθρὸν ἀποσκεδάσας τεῦξέ μιν ἀσφαλέως</td>\n",
       "      <td>189</td>\n",
       "      <td>23</td>\n",
       "    </tr>\n",
       "    <tr>\n",
       "      <th>...</th>\n",
       "      <td>...</td>\n",
       "      <td>...</td>\n",
       "      <td>...</td>\n",
       "      <td>...</td>\n",
       "      <td>...</td>\n",
       "      <td>...</td>\n",
       "      <td>...</td>\n",
       "    </tr>\n",
       "    <tr>\n",
       "      <th>11554</th>\n",
       "      <td>4125</td>\n",
       "      <td>https://anthologiagraeca.org/api/passages/urn:cts:greekLit:tlg7000.tlg001.ag:16.386/</td>\n",
       "      <td>https://anthologiagraeca.org/api/texts/14199/</td>\n",
       "      <td>ita</td>\n",
       "      <td>l artista a morti da gran tempo vita dà   giuliano tira e molla le sue redini  sul carro rosso con vigore come un dì  si leva col suo carro nell immagine  la mano è là che attende il cenno pista via</td>\n",
       "      <td>198</td>\n",
       "      <td>41</td>\n",
       "    </tr>\n",
       "    <tr>\n",
       "      <th>11555</th>\n",
       "      <td>3523</td>\n",
       "      <td>https://anthologiagraeca.org/api/passages/urn:cts:greekLit:tlg7000.tlg001.ag:16.387/</td>\n",
       "      <td>https://anthologiagraeca.org/api/texts/6652/</td>\n",
       "      <td>grc</td>\n",
       "      <td>ἰουλιανὸς οὗτος ἅρμα ῥουσίου  ἔχων ἐνίκα τοὺς ἐναντίους δρόμῳ  ἀλλ᾽ εἰ γραφεὺς παρεῖχε καὶ πνοῆς χάριν ἕτοιμός ἐστι καὶ πάλιν διφρηλάτης                     καὶ πρόσθεν ἐλθεῖν καὶ λαβεῖν καὶ τὸ στέφος</td>\n",
       "      <td>200</td>\n",
       "      <td>29</td>\n",
       "    </tr>\n",
       "    <tr>\n",
       "      <th>11556</th>\n",
       "      <td>3523</td>\n",
       "      <td>https://anthologiagraeca.org/api/passages/urn:cts:greekLit:tlg7000.tlg001.ag:16.387/</td>\n",
       "      <td>https://anthologiagraeca.org/api/texts/14200/</td>\n",
       "      <td>ita</td>\n",
       "      <td>giuliano è questo per i rossi vincere  poté i rivali tutti nell ippodromo  e se il pittore gl infondeva l alito  sarebbe pronto nuovamente a correre  a dominare la corona a cingere</td>\n",
       "      <td>180</td>\n",
       "      <td>32</td>\n",
       "    </tr>\n",
       "    <tr>\n",
       "      <th>11557</th>\n",
       "      <td>3946</td>\n",
       "      <td>https://anthologiagraeca.org/api/passages/urn:cts:greekLit:tlg7000.tlg001.ag:16.388/</td>\n",
       "      <td>https://anthologiagraeca.org/api/texts/7076/</td>\n",
       "      <td>grc</td>\n",
       "      <td>στέφος πλέκων ποθ᾽ εὗρον ἐν τοῖς ῥόδοις ἔρωτα  καὶ τῶν πτερῶν κατασχὼν  ἐβάπτις1᾽ εἰς τὸν οἶνον                     λαβὼν δ᾽ ἔπιον αὐτόν  καὶ νῦν ἔσω μελῶν μου πτεροῖσι γαργαλίζει</td>\n",
       "      <td>179</td>\n",
       "      <td>27</td>\n",
       "    </tr>\n",
       "    <tr>\n",
       "      <th>11558</th>\n",
       "      <td>3946</td>\n",
       "      <td>https://anthologiagraeca.org/api/passages/urn:cts:greekLit:tlg7000.tlg001.ag:16.388/</td>\n",
       "      <td>https://anthologiagraeca.org/api/texts/14201/</td>\n",
       "      <td>ita</td>\n",
       "      <td>tessevo un serto vidi  di tra le rose amore  lo presi per le ali  lo battezzai nel vino  lo tracannai d un sorso  mi fa con l ali adesso   solletico nel corpo</td>\n",
       "      <td>158</td>\n",
       "      <td>32</td>\n",
       "    </tr>\n",
       "  </tbody>\n",
       "</table>\n",
       "<p>11559 rows × 7 columns</p>\n",
       "</div>"
      ],
      "text/plain": [
       "      epi_id  \\\n",
       "0        424   \n",
       "1        424   \n",
       "2        424   \n",
       "3        424   \n",
       "4        438   \n",
       "...      ...   \n",
       "11554   4125   \n",
       "11555   3523   \n",
       "11556   3523   \n",
       "11557   3946   \n",
       "11558   3946   \n",
       "\n",
       "                                                                                    epi_url  \\\n",
       "0         https://anthologiagraeca.org/api/passages/urn:cts:greekLit:tlg7000.tlg001.ag:1.1/   \n",
       "1         https://anthologiagraeca.org/api/passages/urn:cts:greekLit:tlg7000.tlg001.ag:1.1/   \n",
       "2         https://anthologiagraeca.org/api/passages/urn:cts:greekLit:tlg7000.tlg001.ag:1.1/   \n",
       "3         https://anthologiagraeca.org/api/passages/urn:cts:greekLit:tlg7000.tlg001.ag:1.1/   \n",
       "4         https://anthologiagraeca.org/api/passages/urn:cts:greekLit:tlg7000.tlg001.ag:1.2/   \n",
       "...                                                                                     ...   \n",
       "11554  https://anthologiagraeca.org/api/passages/urn:cts:greekLit:tlg7000.tlg001.ag:16.386/   \n",
       "11555  https://anthologiagraeca.org/api/passages/urn:cts:greekLit:tlg7000.tlg001.ag:16.387/   \n",
       "11556  https://anthologiagraeca.org/api/passages/urn:cts:greekLit:tlg7000.tlg001.ag:16.387/   \n",
       "11557  https://anthologiagraeca.org/api/passages/urn:cts:greekLit:tlg7000.tlg001.ag:16.388/   \n",
       "11558  https://anthologiagraeca.org/api/passages/urn:cts:greekLit:tlg7000.tlg001.ag:16.388/   \n",
       "\n",
       "                                            text_url text_lang  \\\n",
       "0       https://anthologiagraeca.org/api/texts/1581/       grc   \n",
       "1       https://anthologiagraeca.org/api/texts/1582/       eng   \n",
       "2       https://anthologiagraeca.org/api/texts/1583/       fra   \n",
       "3       https://anthologiagraeca.org/api/texts/1584/       por   \n",
       "4       https://anthologiagraeca.org/api/texts/1627/       grc   \n",
       "...                                              ...       ...   \n",
       "11554  https://anthologiagraeca.org/api/texts/14199/       ita   \n",
       "11555   https://anthologiagraeca.org/api/texts/6652/       grc   \n",
       "11556  https://anthologiagraeca.org/api/texts/14200/       ita   \n",
       "11557   https://anthologiagraeca.org/api/texts/7076/       grc   \n",
       "11558  https://anthologiagraeca.org/api/texts/14201/       ita   \n",
       "\n",
       "                                                                                                                                                                                                           text  \\\n",
       "0                                                                                                                                       ἃς οἱ πλάνοι καθεῖλον ἐνθάδ᾽ εἰκόνας  ἄνακτες ἐστήλωσαν εὐσεβεῖς πάλιν    \n",
       "1                                                                                       inscribed on the tabernacle of saint sophia  the images that the hereties took down here our pious sovereigns replaced    \n",
       "2                                                                              sur le dais de l autel de sainte sophie   les images que des égarés avaient renversées ici de pieux souverains les ont relevées    \n",
       "3                                                                                     inscrito no altar de santa sofia   daqui os andarilhos derrubaram as imagens então os pios senhores as ergueram novamente   \n",
       "4                                        θεῖος ἰουστῖνος σοφίης πόσις ᾧ πόρε χριστὸς  πάντα διορθοῦσθαι καὶ κλέος ἐν πολέμοις μητρὸς ἀπειρογάμοιο δόμον σκάζοντα νοήσας  σαθρὸν ἀποσκεδάσας τεῦξέ μιν ἀσφαλέως    \n",
       "...                                                                                                                                                                                                         ...   \n",
       "11554    l artista a morti da gran tempo vita dà   giuliano tira e molla le sue redini  sul carro rosso con vigore come un dì  si leva col suo carro nell immagine  la mano è là che attende il cenno pista via   \n",
       "11555  ἰουλιανὸς οὗτος ἅρμα ῥουσίου  ἔχων ἐνίκα τοὺς ἐναντίους δρόμῳ  ἀλλ᾽ εἰ γραφεὺς παρεῖχε καὶ πνοῆς χάριν ἕτοιμός ἐστι καὶ πάλιν διφρηλάτης                     καὶ πρόσθεν ἐλθεῖν καὶ λαβεῖν καὶ τὸ στέφος   \n",
       "11556                      giuliano è questo per i rossi vincere  poté i rivali tutti nell ippodromo  e se il pittore gl infondeva l alito  sarebbe pronto nuovamente a correre  a dominare la corona a cingere   \n",
       "11557                       στέφος πλέκων ποθ᾽ εὗρον ἐν τοῖς ῥόδοις ἔρωτα  καὶ τῶν πτερῶν κατασχὼν  ἐβάπτις1᾽ εἰς τὸν οἶνον                     λαβὼν δ᾽ ἔπιον αὐτόν  καὶ νῦν ἔσω μελῶν μου πτεροῖσι γαργαλίζει   \n",
       "11558                                            tessevo un serto vidi  di tra le rose amore  lo presi per le ali  lo battezzai nel vino  lo tracannai d un sorso  mi fa con l ali adesso   solletico nel corpo   \n",
       "\n",
       "       len  words  \n",
       "0       94     10  \n",
       "1      119     19  \n",
       "2      128     23  \n",
       "3      121     19  \n",
       "4      189     23  \n",
       "...    ...    ...  \n",
       "11554  198     41  \n",
       "11555  200     29  \n",
       "11556  180     32  \n",
       "11557  179     27  \n",
       "11558  158     32  \n",
       "\n",
       "[11559 rows x 7 columns]"
      ]
     },
     "execution_count": 92,
     "metadata": {},
     "output_type": "execute_result"
    }
   ],
   "source": [
    "df[['epi_id', 'epi_url', 'text_url', 'text_lang', 'text', 'len', 'words']]"
   ]
  },
  {
   "cell_type": "markdown",
   "metadata": {},
   "source": [
    "Voyons le nombre total de caractère pour chacune des langues : "
   ]
  },
  {
   "cell_type": "code",
   "execution_count": 94,
   "metadata": {},
   "outputs": [],
   "source": [
    "sum_len = df.groupby('text_lang')['len'].sum()\n",
    "sum_words = df.groupby('text_lang')['words'].sum()"
   ]
  },
  {
   "cell_type": "code",
   "execution_count": 95,
   "metadata": {},
   "outputs": [
    {
     "name": "stdout",
     "output_type": "stream",
     "text": [
      "text_lang\n",
      "cmn      9252\n",
      "deu       400\n",
      "eng    810834\n",
      "fra    828307\n",
      "grc    989693\n",
      "ita    254731\n",
      "lat      8337\n",
      "por     50421\n",
      "spa       202\n",
      "Name: len, dtype: int64\n",
      "text_lang\n",
      "cmn       162\n",
      "deu        65\n",
      "eng    155135\n",
      "fra    157244\n",
      "grc    139731\n",
      "ita     44519\n",
      "lat      1287\n",
      "por      9102\n",
      "spa        37\n",
      "Name: words, dtype: int64\n"
     ]
    }
   ],
   "source": [
    "print(sum_len)\n",
    "print(sum_words)"
   ]
  },
  {
   "cell_type": "code",
   "execution_count": 98,
   "metadata": {},
   "outputs": [
    {
     "data": {
      "text/plain": [
       "Text(0.5, 1.0, \"Nombre de caractère par langues au sein des textes de l'AGr\")"
      ]
     },
     "execution_count": 98,
     "metadata": {},
     "output_type": "execute_result"
    },
    {
     "data": {
      "image/png": "[encoded data removed]",
      "text/plain": [
       "<Figure size 432x288 with 1 Axes>"
      ]
     },
     "metadata": {},
     "output_type": "display_data"
    }
   ],
   "source": [
    "ax1 = sum_len.plot(kind='pie')\n",
    "ax.set_title(\"Nombre de caractère par langues au sein des textes de l'AGr\")"
   ]
  },
  {
   "cell_type": "code",
   "execution_count": 99,
   "metadata": {},
   "outputs": [
    {
     "data": {
      "text/plain": [
       "Text(0.5, 1.0, \"Nombre de mots par langues au sein des textes de l'AGr\")"
      ]
     },
     "execution_count": 99,
     "metadata": {},
     "output_type": "execute_result"
    },
    {
     "data": {
      "image/png": "[encoded data removed]",
      "text/plain": [
       "<Figure size 432x288 with 1 Axes>"
      ]
     },
     "metadata": {},
     "output_type": "display_data"
    }
   ],
   "source": [
    "ax1 = sum_words.plot(kind='pie')\n",
    "ax.set_title(\"Nombre de mots par langues au sein des textes de l'AGr\")"
   ]
  },
  {
   "cell_type": "markdown",
   "metadata": {},
   "source": [
    "On pourrait également calculer le nombre moyen de caractères et de mots par épigramme en fonction des langues : "
   ]
  },
  {
   "cell_type": "code",
   "execution_count": 101,
   "metadata": {},
   "outputs": [
    {
     "name": "stdout",
     "output_type": "stream",
     "text": [
      "text_lang\n",
      "cmn     84.109091\n",
      "deu    200.000000\n",
      "eng    256.106759\n",
      "fra    287.008663\n",
      "grc    234.302320\n",
      "ita    269.842161\n",
      "lat    213.769231\n",
      "por    269.631016\n",
      "spa    202.000000\n",
      "Name: len, dtype: float64\n",
      "text_lang\n",
      "cmn     1.472727\n",
      "deu    32.500000\n",
      "eng    49.000316\n",
      "fra    54.485100\n",
      "grc    33.080256\n",
      "ita    47.159958\n",
      "lat    33.000000\n",
      "por    48.673797\n",
      "spa    37.000000\n",
      "Name: words, dtype: float64\n"
     ]
    }
   ],
   "source": [
    "mean_len = df.groupby('text_lang')['len'].mean()\n",
    "print(mean_len)\n",
    "\n",
    "mean_word = df.groupby('text_lang')['words'].mean()\n",
    "print(mean_word)"
   ]
  },
  {
   "cell_type": "code",
   "execution_count": 88,
   "metadata": {},
   "outputs": [
    {
     "data": {
      "text/plain": [
       "Text(0.5, 1.0, \"Nombre moye de caractère par épigramme au sein de l'AGr selon les langues\")"
      ]
     },
     "execution_count": 88,
     "metadata": {},
     "output_type": "execute_result"
    },
    {
     "data": {
      "image/png": "[encoded data removed]",
      "text/plain": [
       "<Figure size 432x288 with 1 Axes>"
      ]
     },
     "metadata": {
      "needs_background": "light"
     },
     "output_type": "display_data"
    }
   ],
   "source": [
    "ax = mean_len.plot(kind='bar')\n",
    "ax.set_title(\"Nombre moye de caractère par épigramme au sein de l'AGr selon les langues\")"
   ]
  },
  {
   "cell_type": "code",
   "execution_count": 102,
   "metadata": {},
   "outputs": [
    {
     "data": {
      "text/plain": [
       "Text(0.5, 1.0, \"Nombre moye de mots par épigramme au sein de l'AGr selon les langues\")"
      ]
     },
     "execution_count": 102,
     "metadata": {},
     "output_type": "execute_result"
    },
    {
     "data": {
      "image/png": "[encoded data removed]",
      "text/plain": [
       "<Figure size 432x288 with 1 Axes>"
      ]
     },
     "metadata": {
      "needs_background": "light"
     },
     "output_type": "display_data"
    }
   ],
   "source": [
    "ax = mean_word.plot(kind='bar')\n",
    "ax.set_title(\"Nombre moye de mots par épigramme au sein de l'AGr selon les langues\")"
   ]
  },
  {
   "cell_type": "code",
   "execution_count": null,
   "metadata": {},
   "outputs": [],
   "source": []
  }
 ],
 "metadata": {
  "kernelspec": {
   "display_name": "Python 3 (ipykernel)",
   "language": "python",
   "name": "python3"
  },
  "language_info": {
   "codemirror_mode": {
    "name": "ipython",
    "version": 3
   },
   "file_extension": ".py",
   "mimetype": "text/x-python",
   "name": "python",
   "nbconvert_exporter": "python",
   "pygments_lexer": "ipython3",
   "version": "3.8.10"
  },
  "widgets": {
   "application/vnd.jupyter.widget-state+json": {
    "state": {},
    "version_major": 2,
    "version_minor": 0
   }
  }
 },
 "nbformat": 4,
 "nbformat_minor": 4
}
