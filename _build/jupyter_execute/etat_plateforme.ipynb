{
 "cells": [
  {
   "cell_type": "markdown",
   "metadata": {},
   "source": [
    "# État de la plateforme \n",
    "\n",
    "Il est important d'avoir un oeil sur l'évolution de l'édition générale de la plateforme. Pour ce faire, nous nous baserons essentiellement sur l'état des livres pour cela. "
   ]
  },
  {
   "cell_type": "code",
   "execution_count": 1,
   "metadata": {},
   "outputs": [],
   "source": [
    "import json\n",
    "import requests\n",
    "import csv\n",
    "import pandas as pd\n",
    "import datetime\n",
    "import seaborn as sns\n",
    "import numpy as np\n",
    "import matplotlib.pyplot as plt"
   ]
  },
  {
   "cell_type": "code",
   "execution_count": 2,
   "metadata": {},
   "outputs": [],
   "source": [
    "with open('dump_api.json', 'r') as f: \n",
    "    data = json.loads(f.read())"
   ]
  },
  {
   "cell_type": "markdown",
   "metadata": {},
   "source": [
    "Ici, les données dont nous avons besoin sont un peu différentes. Affichons, toujours dans un dataframe : \n",
    "\n",
    "- id\n",
    "- url \n",
    "- livre \n",
    "- nombre de textes \n",
    "- nombre de mots clés \n",
    "- nombre de commentaires "
   ]
  },
  {
   "cell_type": "code",
   "execution_count": 3,
   "metadata": {},
   "outputs": [],
   "source": [
    "df = pd.DataFrame(columns=['epi_id', 'epi_url', 'livre', 'nbr_txts', 'nbr_kw', 'nbr_coms'])"
   ]
  },
  {
   "cell_type": "code",
   "execution_count": 4,
   "metadata": {},
   "outputs": [],
   "source": [
    "data_list = []\n",
    "\n",
    "for item in data:\n",
    "    books = item['book']\n",
    "    texts = item['texts']\n",
    "    keywords = item['keywords']\n",
    "    comments = item['comments']\n",
    "    data_list.append({\n",
    "        'epi_id': item['id'],\n",
    "        'epi_url': item['url'],\n",
    "        'livre': books['number'],\n",
    "        'nbr_txts': len(texts),\n",
    "        'nbr_kw': len(keywords),\n",
    "        'nbr_coms': len(comments)\n",
    "    })\n",
    "\n",
    "df = pd.DataFrame(data_list)\n",
    "pd.set_option('display.max_colwidth', None)"
   ]
  },
  {
   "cell_type": "code",
   "execution_count": 5,
   "metadata": {},
   "outputs": [
    {
     "data": {
      "text/html": [
       "<div>\n",
       "<style scoped>\n",
       "    .dataframe tbody tr th:only-of-type {\n",
       "        vertical-align: middle;\n",
       "    }\n",
       "\n",
       "    .dataframe tbody tr th {\n",
       "        vertical-align: top;\n",
       "    }\n",
       "\n",
       "    .dataframe thead th {\n",
       "        text-align: right;\n",
       "    }\n",
       "</style>\n",
       "<table border=\"1\" class=\"dataframe\">\n",
       "  <thead>\n",
       "    <tr style=\"text-align: right;\">\n",
       "      <th></th>\n",
       "      <th>epi_id</th>\n",
       "      <th>epi_url</th>\n",
       "      <th>livre</th>\n",
       "      <th>nbr_txts</th>\n",
       "      <th>nbr_kw</th>\n",
       "      <th>nbr_coms</th>\n",
       "    </tr>\n",
       "  </thead>\n",
       "  <tbody>\n",
       "    <tr>\n",
       "      <th>2966</th>\n",
       "      <td>3044</td>\n",
       "      <td>https://anthologiagraeca.org/api/passages/urn:cts:greekLit:tlg7000.tlg001.ag:11.166/</td>\n",
       "      <td>11</td>\n",
       "      <td>3</td>\n",
       "      <td>0</td>\n",
       "      <td>0</td>\n",
       "    </tr>\n",
       "    <tr>\n",
       "      <th>975</th>\n",
       "      <td>238</td>\n",
       "      <td>https://anthologiagraeca.org/api/passages/urn:cts:greekLit:tlg7000.tlg001.ag:7.147/</td>\n",
       "      <td>7</td>\n",
       "      <td>4</td>\n",
       "      <td>10</td>\n",
       "      <td>0</td>\n",
       "    </tr>\n",
       "    <tr>\n",
       "      <th>1124</th>\n",
       "      <td>586</td>\n",
       "      <td>https://anthologiagraeca.org/api/passages/urn:cts:greekLit:tlg7000.tlg001.ag:7.295/</td>\n",
       "      <td>7</td>\n",
       "      <td>4</td>\n",
       "      <td>6</td>\n",
       "      <td>0</td>\n",
       "    </tr>\n",
       "    <tr>\n",
       "      <th>3855</th>\n",
       "      <td>3780</td>\n",
       "      <td>https://anthologiagraeca.org/api/passages/urn:cts:greekLit:tlg7000.tlg001.ag:16.111/</td>\n",
       "      <td>16</td>\n",
       "      <td>1</td>\n",
       "      <td>0</td>\n",
       "      <td>1</td>\n",
       "    </tr>\n",
       "    <tr>\n",
       "      <th>761</th>\n",
       "      <td>1768</td>\n",
       "      <td>https://anthologiagraeca.org/api/passages/urn:cts:greekLit:tlg7000.tlg001.ag:6.294/</td>\n",
       "      <td>6</td>\n",
       "      <td>3</td>\n",
       "      <td>1</td>\n",
       "      <td>0</td>\n",
       "    </tr>\n",
       "  </tbody>\n",
       "</table>\n",
       "</div>"
      ],
      "text/plain": [
       "      epi_id  \\\n",
       "2966    3044   \n",
       "975      238   \n",
       "1124     586   \n",
       "3855    3780   \n",
       "761     1768   \n",
       "\n",
       "                                                                                   epi_url  \\\n",
       "2966  https://anthologiagraeca.org/api/passages/urn:cts:greekLit:tlg7000.tlg001.ag:11.166/   \n",
       "975    https://anthologiagraeca.org/api/passages/urn:cts:greekLit:tlg7000.tlg001.ag:7.147/   \n",
       "1124   https://anthologiagraeca.org/api/passages/urn:cts:greekLit:tlg7000.tlg001.ag:7.295/   \n",
       "3855  https://anthologiagraeca.org/api/passages/urn:cts:greekLit:tlg7000.tlg001.ag:16.111/   \n",
       "761    https://anthologiagraeca.org/api/passages/urn:cts:greekLit:tlg7000.tlg001.ag:6.294/   \n",
       "\n",
       "      livre  nbr_txts  nbr_kw  nbr_coms  \n",
       "2966     11         3       0         0  \n",
       "975       7         4      10         0  \n",
       "1124      7         4       6         0  \n",
       "3855     16         1       0         1  \n",
       "761       6         3       1         0  "
      ]
     },
     "execution_count": 5,
     "metadata": {},
     "output_type": "execute_result"
    }
   ],
   "source": [
    "df.sample(5)"
   ]
  },
  {
   "cell_type": "code",
   "execution_count": 6,
   "metadata": {},
   "outputs": [
    {
     "data": {
      "text/html": [
       "<div>\n",
       "<style scoped>\n",
       "    .dataframe tbody tr th:only-of-type {\n",
       "        vertical-align: middle;\n",
       "    }\n",
       "\n",
       "    .dataframe tbody tr th {\n",
       "        vertical-align: top;\n",
       "    }\n",
       "\n",
       "    .dataframe thead th {\n",
       "        text-align: right;\n",
       "    }\n",
       "</style>\n",
       "<table border=\"1\" class=\"dataframe\">\n",
       "  <thead>\n",
       "    <tr style=\"text-align: right;\">\n",
       "      <th></th>\n",
       "      <th>epi_id</th>\n",
       "      <th>livre</th>\n",
       "      <th>nbr_txts</th>\n",
       "      <th>nbr_kw</th>\n",
       "      <th>nbr_coms</th>\n",
       "    </tr>\n",
       "  </thead>\n",
       "  <tbody>\n",
       "    <tr>\n",
       "      <th>count</th>\n",
       "      <td>4134.0</td>\n",
       "      <td>4134.0</td>\n",
       "      <td>4134.0</td>\n",
       "      <td>4134.0</td>\n",
       "      <td>4134.0</td>\n",
       "    </tr>\n",
       "    <tr>\n",
       "      <th>max</th>\n",
       "      <td>4134.0</td>\n",
       "      <td>16.0</td>\n",
       "      <td>11.0</td>\n",
       "      <td>53.0</td>\n",
       "      <td>34.0</td>\n",
       "    </tr>\n",
       "  </tbody>\n",
       "</table>\n",
       "</div>"
      ],
      "text/plain": [
       "       epi_id   livre  nbr_txts  nbr_kw  nbr_coms\n",
       "count  4134.0  4134.0    4134.0  4134.0    4134.0\n",
       "max    4134.0    16.0      11.0    53.0      34.0"
      ]
     },
     "execution_count": 6,
     "metadata": {},
     "output_type": "execute_result"
    }
   ],
   "source": [
    "df.describe().loc[['count','max']]"
   ]
  },
  {
   "cell_type": "markdown",
   "metadata": {},
   "source": [
    "La fonction ```describe``` utilisée ci-dessous nous permet de mettre en évidence quelques statistiques intéressantes, plus particulièrement d'afficher les plus hautes valeurs pour chacune des colonnes. Certains épigrammes ont 11 textes, d'autres 53 mots clés, ou 34 commentaires ! Nous pouvons créer des filtres pour voir de quelles épigrammes il s'agit : "
   ]
  },
  {
   "cell_type": "code",
   "execution_count": 7,
   "metadata": {},
   "outputs": [],
   "source": [
    "max_txt_filter = df['nbr_txts'] == 11\n",
    "max_kw_filter = df['nbr_kw'] == 53\n",
    "max_coms_filter = df['nbr_coms'] == 34"
   ]
  },
  {
   "cell_type": "code",
   "execution_count": 8,
   "metadata": {},
   "outputs": [
    {
     "data": {
      "text/html": [
       "<div>\n",
       "<style scoped>\n",
       "    .dataframe tbody tr th:only-of-type {\n",
       "        vertical-align: middle;\n",
       "    }\n",
       "\n",
       "    .dataframe tbody tr th {\n",
       "        vertical-align: top;\n",
       "    }\n",
       "\n",
       "    .dataframe thead th {\n",
       "        text-align: right;\n",
       "    }\n",
       "</style>\n",
       "<table border=\"1\" class=\"dataframe\">\n",
       "  <thead>\n",
       "    <tr style=\"text-align: right;\">\n",
       "      <th></th>\n",
       "      <th>epi_id</th>\n",
       "      <th>epi_url</th>\n",
       "      <th>livre</th>\n",
       "      <th>nbr_txts</th>\n",
       "      <th>nbr_kw</th>\n",
       "      <th>nbr_coms</th>\n",
       "    </tr>\n",
       "  </thead>\n",
       "  <tbody>\n",
       "    <tr>\n",
       "      <th>1912</th>\n",
       "      <td>2433</td>\n",
       "      <td>https://anthologiagraeca.org/api/passages/urn:cts:greekLit:tlg7000.tlg001.ag:9.70/</td>\n",
       "      <td>9</td>\n",
       "      <td>11</td>\n",
       "      <td>0</td>\n",
       "      <td>0</td>\n",
       "    </tr>\n",
       "  </tbody>\n",
       "</table>\n",
       "</div>"
      ],
      "text/plain": [
       "      epi_id  \\\n",
       "1912    2433   \n",
       "\n",
       "                                                                                 epi_url  \\\n",
       "1912  https://anthologiagraeca.org/api/passages/urn:cts:greekLit:tlg7000.tlg001.ag:9.70/   \n",
       "\n",
       "      livre  nbr_txts  nbr_kw  nbr_coms  \n",
       "1912      9        11       0         0  "
      ]
     },
     "execution_count": 8,
     "metadata": {},
     "output_type": "execute_result"
    }
   ],
   "source": [
    "df[max_txt_filter]"
   ]
  },
  {
   "cell_type": "code",
   "execution_count": 9,
   "metadata": {},
   "outputs": [
    {
     "data": {
      "text/html": [
       "<div>\n",
       "<style scoped>\n",
       "    .dataframe tbody tr th:only-of-type {\n",
       "        vertical-align: middle;\n",
       "    }\n",
       "\n",
       "    .dataframe tbody tr th {\n",
       "        vertical-align: top;\n",
       "    }\n",
       "\n",
       "    .dataframe thead th {\n",
       "        text-align: right;\n",
       "    }\n",
       "</style>\n",
       "<table border=\"1\" class=\"dataframe\">\n",
       "  <thead>\n",
       "    <tr style=\"text-align: right;\">\n",
       "      <th></th>\n",
       "      <th>epi_id</th>\n",
       "      <th>epi_url</th>\n",
       "      <th>livre</th>\n",
       "      <th>nbr_txts</th>\n",
       "      <th>nbr_kw</th>\n",
       "      <th>nbr_coms</th>\n",
       "    </tr>\n",
       "  </thead>\n",
       "  <tbody>\n",
       "    <tr>\n",
       "      <th>152</th>\n",
       "      <td>2</td>\n",
       "      <td>https://anthologiagraeca.org/api/passages/urn:cts:greekLit:tlg7000.tlg001.ag:4.1/</td>\n",
       "      <td>4</td>\n",
       "      <td>6</td>\n",
       "      <td>53</td>\n",
       "      <td>34</td>\n",
       "    </tr>\n",
       "  </tbody>\n",
       "</table>\n",
       "</div>"
      ],
      "text/plain": [
       "     epi_id  \\\n",
       "152       2   \n",
       "\n",
       "                                                                               epi_url  \\\n",
       "152  https://anthologiagraeca.org/api/passages/urn:cts:greekLit:tlg7000.tlg001.ag:4.1/   \n",
       "\n",
       "     livre  nbr_txts  nbr_kw  nbr_coms  \n",
       "152      4         6      53        34  "
      ]
     },
     "execution_count": 9,
     "metadata": {},
     "output_type": "execute_result"
    }
   ],
   "source": [
    "df[max_kw_filter]"
   ]
  },
  {
   "cell_type": "code",
   "execution_count": 10,
   "metadata": {},
   "outputs": [
    {
     "data": {
      "text/html": [
       "<div>\n",
       "<style scoped>\n",
       "    .dataframe tbody tr th:only-of-type {\n",
       "        vertical-align: middle;\n",
       "    }\n",
       "\n",
       "    .dataframe tbody tr th {\n",
       "        vertical-align: top;\n",
       "    }\n",
       "\n",
       "    .dataframe thead th {\n",
       "        text-align: right;\n",
       "    }\n",
       "</style>\n",
       "<table border=\"1\" class=\"dataframe\">\n",
       "  <thead>\n",
       "    <tr style=\"text-align: right;\">\n",
       "      <th></th>\n",
       "      <th>epi_id</th>\n",
       "      <th>epi_url</th>\n",
       "      <th>livre</th>\n",
       "      <th>nbr_txts</th>\n",
       "      <th>nbr_kw</th>\n",
       "      <th>nbr_coms</th>\n",
       "    </tr>\n",
       "  </thead>\n",
       "  <tbody>\n",
       "    <tr>\n",
       "      <th>152</th>\n",
       "      <td>2</td>\n",
       "      <td>https://anthologiagraeca.org/api/passages/urn:cts:greekLit:tlg7000.tlg001.ag:4.1/</td>\n",
       "      <td>4</td>\n",
       "      <td>6</td>\n",
       "      <td>53</td>\n",
       "      <td>34</td>\n",
       "    </tr>\n",
       "  </tbody>\n",
       "</table>\n",
       "</div>"
      ],
      "text/plain": [
       "     epi_id  \\\n",
       "152       2   \n",
       "\n",
       "                                                                               epi_url  \\\n",
       "152  https://anthologiagraeca.org/api/passages/urn:cts:greekLit:tlg7000.tlg001.ag:4.1/   \n",
       "\n",
       "     livre  nbr_txts  nbr_kw  nbr_coms  \n",
       "152      4         6      53        34  "
      ]
     },
     "execution_count": 10,
     "metadata": {},
     "output_type": "execute_result"
    }
   ],
   "source": [
    "df[max_coms_filter]"
   ]
  },
  {
   "cell_type": "markdown",
   "metadata": {},
   "source": [
    "Mais le but de notre expérience est de visualiser nos données. Visualisons -- toujours avec ```Pandas``` dans un premier temps --, pour les textes, mots-clés, et commentaires, les données suivantes : \n",
    "\n",
    "- nombre d'items par livre \n",
    "- nombre moyen d'items par épigramme (selon les livres) \n",
    "- médiane des items par épigramme (selon les livres) \n",
    "\n",
    "## Textes "
   ]
  },
  {
   "cell_type": "code",
   "execution_count": 11,
   "metadata": {},
   "outputs": [
    {
     "data": {
      "image/png": "[encoded data removed]",
      "text/plain": [
       "<Figure size 432x288 with 1 Axes>"
      ]
     },
     "metadata": {
      "needs_background": "light"
     },
     "output_type": "display_data"
    }
   ],
   "source": [
    "counts = df['nbr_txts'].value_counts().sort_index()\n",
    "\n",
    "plt.figure()\n",
    "counts.plot(kind='bar')\n",
    "plt.title(\"Nombre d'épigrammes qui ont X textes\")\n",
    "\n",
    "\n",
    "plt.show()\n"
   ]
  },
  {
   "cell_type": "code",
   "execution_count": 12,
   "metadata": {},
   "outputs": [
    {
     "data": {
      "image/png": "[encoded data removed]",
      "text/plain": [
       "<Figure size 432x288 with 1 Axes>"
      ]
     },
     "metadata": {},
     "output_type": "display_data"
    }
   ],
   "source": [
    "counts = df['nbr_txts'].value_counts()\n",
    "\n",
    "# Calculer la somme totale des valeurs\n",
    "total = counts.sum()\n",
    "\n",
    "# Identifier les valeurs qui ont moins de 4% par rapport à la somme totale\n",
    "threshold = 0.04  # Seuil de 4% (modifiable selon vos besoins)\n",
    "small_values = counts[counts/total < threshold]\n",
    "\n",
    "# Regrouper les petites valeurs sous la catégorie \"Autre\"\n",
    "counts_grouped = counts.copy()\n",
    "counts_grouped.loc[small_values.index] = counts_grouped.loc[small_values.index].sum()\n",
    "counts_grouped = counts_grouped[~(counts_grouped/total < threshold)]  # Supprimer les petites valeurs individuelles\n",
    "\n",
    "# Mettre à jour le libellé correspondant à \"5\"\n",
    "counts_grouped.index = counts_grouped.index.map(lambda x: '5 à 11' if x == 5 else x)\n",
    "\n",
    "# Tracer le graphique en secteurs avec les valeurs regroupées\n",
    "plt.figure()\n",
    "counts_grouped.plot(kind='pie', autopct='%1.1f%%')\n",
    "plt.title(\"Pourcentage d'épigramme qui ont X textes\")\n",
    "\n",
    "plt.show()\n"
   ]
  },
  {
   "cell_type": "code",
   "execution_count": 13,
   "metadata": {
    "scrolled": true
   },
   "outputs": [
    {
     "data": {
      "text/plain": [
       "<Figure size 432x288 with 0 Axes>"
      ]
     },
     "metadata": {},
     "output_type": "display_data"
    },
    {
     "data": {
      "image/png": "[encoded data removed]",
      "text/plain": [
       "<Figure size 432x288 with 1 Axes>"
      ]
     },
     "metadata": {
      "needs_background": "light"
     },
     "output_type": "display_data"
    }
   ],
   "source": [
    "# Calculer la moyenne des valeurs par groupe 'livre'\n",
    "mean_values = df[['livre', 'nbr_txts']].groupby('livre').mean()\n",
    "\n",
    "# Réorganiser les données selon l'ordre souhaité (de 1 à 16)\n",
    "mean_values_ordered = mean_values.reindex(range(1, 17))\n",
    "\n",
    "# Tracer le bar plot ordonné\n",
    "plt.figure()\n",
    "mean_values_ordered.plot(kind='bar')\n",
    "plt.title(\"Moyenne de textes qu'ont les épigrammes de chaque livre\")\n",
    "\n",
    "plt.show()\n"
   ]
  },
  {
   "cell_type": "markdown",
   "metadata": {},
   "source": [
    "## Mots-clés"
   ]
  },
  {
   "cell_type": "code",
   "execution_count": 14,
   "metadata": {},
   "outputs": [
    {
     "data": {
      "image/png": "[encoded data removed]",
      "text/plain": [
       "<Figure size 432x288 with 1 Axes>"
      ]
     },
     "metadata": {
      "needs_background": "light"
     },
     "output_type": "display_data"
    }
   ],
   "source": [
    "# Compter le nombre d'occurrences de chaque valeur de \"nbr_kw\" et trier par ordre croissant des mots-clés\n",
    "counts = df['nbr_kw'].value_counts().sort_index()\n",
    "\n",
    "# Tracer le bar plot ordonné\n",
    "plt.figure()\n",
    "counts.plot(kind='bar')\n",
    "plt.title(\"Nombre d'épigrammes qui ont X mots-clés\")\n",
    "\n",
    "plt.show()"
   ]
  },
  {
   "cell_type": "code",
   "execution_count": 15,
   "metadata": {},
   "outputs": [
    {
     "data": {
      "image/png": "[encoded data removed]",
      "text/plain": [
       "<Figure size 432x288 with 1 Axes>"
      ]
     },
     "metadata": {},
     "output_type": "display_data"
    }
   ],
   "source": [
    "import matplotlib.pyplot as plt\n",
    "\n",
    "# Regroupement des valeurs selon les catégories spécifiées\n",
    "grouped_counts = df['nbr_kw'].value_counts().sort_index()\n",
    "grouped_counts = grouped_counts.groupby(pd.cut(grouped_counts.index,\n",
    "                                               bins=[0,1,2,3,4,5,6,7,8,9,10,11,13,53],\n",
    "                                               labels=['0', '1', '2', '3', '4', '5', '6', '7', '8', '9', '10', '11', 'plus de 11'],\n",
    "                                               right=False)).sum()\n",
    "\n",
    "# Tracer la pie chart avec les valeurs groupées\n",
    "plt.figure()\n",
    "grouped_counts.plot(kind='pie', autopct='%1.1f%%')\n",
    "plt.title(\"Pourcentage des épigrammes à avoir X mots-clés\")\n",
    "\n",
    "plt.show()\n"
   ]
  },
  {
   "cell_type": "code",
   "execution_count": 16,
   "metadata": {},
   "outputs": [
    {
     "data": {
      "text/plain": [
       "<Figure size 432x288 with 0 Axes>"
      ]
     },
     "metadata": {},
     "output_type": "display_data"
    },
    {
     "data": {
      "image/png": "[encoded data removed]",
      "text/plain": [
       "<Figure size 432x288 with 1 Axes>"
      ]
     },
     "metadata": {
      "needs_background": "light"
     },
     "output_type": "display_data"
    }
   ],
   "source": [
    "# Calculer la moyenne des valeurs par groupe 'livre'\n",
    "mean_values = df[['livre', 'nbr_kw']].groupby('livre').mean()\n",
    "\n",
    "# Réorganiser les données selon l'ordre souhaité (de 1 à 16)\n",
    "mean_values_ordered = mean_values.reindex(range(1, 17))\n",
    "\n",
    "# Tracer le bar plot ordonné\n",
    "plt.figure()\n",
    "mean_values_ordered.plot(kind='bar')\n",
    "plt.title(\"Moyenne de mots-clés qu'ont les épigrammes de chaque livre\")\n",
    "\n",
    "plt.show()\n"
   ]
  },
  {
   "cell_type": "markdown",
   "metadata": {},
   "source": [
    "## Commentaires"
   ]
  },
  {
   "cell_type": "code",
   "execution_count": 17,
   "metadata": {},
   "outputs": [
    {
     "data": {
      "image/png": "[encoded data removed]",
      "text/plain": [
       "<Figure size 432x288 with 1 Axes>"
      ]
     },
     "metadata": {
      "needs_background": "light"
     },
     "output_type": "display_data"
    }
   ],
   "source": [
    "# Compter le nombre d'occurrences de chaque valeur de \"nbr_kw\" et trier par ordre croissant des mots-clés\n",
    "counts = df['nbr_coms'].value_counts().sort_index()\n",
    "\n",
    "# Tracer le bar plot ordonné\n",
    "plt.figure()\n",
    "counts.plot(kind='bar')\n",
    "plt.title(\"Nombre d'épigrammes qui ont X commentaires\")\n",
    "\n",
    "plt.show()"
   ]
  },
  {
   "cell_type": "code",
   "execution_count": 18,
   "metadata": {},
   "outputs": [
    {
     "data": {
      "image/png": "[encoded data removed]",
      "text/plain": [
       "<Figure size 432x288 with 1 Axes>"
      ]
     },
     "metadata": {},
     "output_type": "display_data"
    }
   ],
   "source": [
    "# Compter le nombre d'occurrences de chaque valeur de \"nbr_coms\"\n",
    "counts = df['nbr_coms'].value_counts()\n",
    "\n",
    "# Calculer la somme totale des valeurs\n",
    "total = counts.sum()\n",
    "\n",
    "# Tracer le graphique en secteurs avec les valeurs regroupées\n",
    "plt.figure()\n",
    "counts.plot(kind='pie', autopct='%1.1f%%')\n",
    "plt.title(\"Pourcentage d'épigramme qui ont X commentaires\")\n",
    "\n",
    "plt.show()\n"
   ]
  },
  {
   "cell_type": "code",
   "execution_count": 19,
   "metadata": {},
   "outputs": [
    {
     "data": {
      "text/plain": [
       "<Figure size 432x288 with 0 Axes>"
      ]
     },
     "metadata": {},
     "output_type": "display_data"
    },
    {
     "data": {
      "image/png": "[encoded data removed]",
      "text/plain": [
       "<Figure size 432x288 with 1 Axes>"
      ]
     },
     "metadata": {
      "needs_background": "light"
     },
     "output_type": "display_data"
    }
   ],
   "source": [
    "# Calculer la moyenne des valeurs par groupe 'livre'\n",
    "mean_values = df[['livre', 'nbr_coms']].groupby('livre').mean()\n",
    "\n",
    "# Réorganiser les données selon l'ordre souhaité (de 1 à 16)\n",
    "mean_values_ordered = mean_values.reindex(range(1, 17))\n",
    "\n",
    "# Tracer le bar plot ordonné\n",
    "plt.figure()\n",
    "mean_values_ordered.plot(kind='bar')\n",
    "plt.title(\"Moyenne de commentaires qu'ont les épigrammes de chaque livre\")\n",
    "\n",
    "plt.show()\n"
   ]
  },
  {
   "cell_type": "markdown",
   "metadata": {},
   "source": [
    "## L'ensemble"
   ]
  },
  {
   "cell_type": "code",
   "execution_count": 20,
   "metadata": {},
   "outputs": [
    {
     "data": {
      "image/png": "[encoded data removed]",
      "text/plain": [
       "<Figure size 1080x720 with 1 Axes>"
      ]
     },
     "metadata": {
      "needs_background": "light"
     },
     "output_type": "display_data"
    }
   ],
   "source": [
    "# Données \n",
    "livres = range(1, 17)\n",
    "mean_values_coms = df[['livre', 'nbr_coms']].groupby('livre').mean()\n",
    "mean_values_coms_ordered = mean_values_coms.reindex(range(1, 17))\n",
    "\n",
    "mean_values_kw = df[['livre', 'nbr_kw']].groupby('livre').mean()\n",
    "mean_values_kw_ordered = mean_values_kw.reindex(range(1, 17))\n",
    "\n",
    "mean_values_txts = df[['livre', 'nbr_txts']].groupby('livre').mean()\n",
    "mean_values_txts_ordered = mean_values_txts.reindex(range(1, 17))\n",
    "\n",
    "# Largeur des barres\n",
    "bar_width = 0.3\n",
    "\n",
    "# Position des barres pour chaque catégorie\n",
    "positions_coms = np.arange(len(livres))\n",
    "positions_kw = positions_coms + bar_width\n",
    "positions_txts = positions_kw + bar_width\n",
    "\n",
    "# Création de la figure et des axes\n",
    "fig, ax = plt.subplots(figsize=(15, 10))\n",
    "\n",
    "# Tracer les barres pour chaque catégorie\n",
    "ax.bar(positions_coms, mean_values_coms_ordered['nbr_coms'].values, width=bar_width, label='Commentaires')\n",
    "ax.bar(positions_kw, mean_values_kw_ordered['nbr_kw'].values, width=bar_width, label='Mots-clés')\n",
    "ax.bar(positions_txts, mean_values_txts_ordered['nbr_txts'].values, width=bar_width, label='Textes')\n",
    "\n",
    "# Étiquettes des axes et titre\n",
    "ax.set_xlabel('Livre')\n",
    "ax.set_ylabel('Moyenne')\n",
    "ax.set_title('Moyenne de commentaires, mots-clés et textes des épigrammes de chaque livre')\n",
    "\n",
    "# Étiquettes des livres sur l'axe des x\n",
    "ax.set_xticks(positions_kw)\n",
    "ax.set_xticklabels(livres)\n",
    "\n",
    "# Légende\n",
    "ax.legend()\n",
    "\n",
    "# Afficher le graphique\n",
    "plt.show()\n"
   ]
  },
  {
   "cell_type": "code",
   "execution_count": null,
   "metadata": {},
   "outputs": [],
   "source": []
  }
 ],
 "metadata": {
  "kernelspec": {
   "display_name": "Python 3 (ipykernel)",
   "language": "python",
   "name": "python3"
  },
  "language_info": {
   "codemirror_mode": {
    "name": "ipython",
    "version": 3
   },
   "file_extension": ".py",
   "mimetype": "text/x-python",
   "name": "python",
   "nbconvert_exporter": "python",
   "pygments_lexer": "ipython3",
   "version": "3.8.10"
  },
  "widgets": {
   "application/vnd.jupyter.widget-state+json": {
    "state": {},
    "version_major": 2,
    "version_minor": 0
   }
  }
 },
 "nbformat": 4,
 "nbformat_minor": 4
}